{
 "cells": [
  {
   "cell_type": "code",
   "execution_count": 1,
   "id": "d02bce13",
   "metadata": {},
   "outputs": [
    {
     "name": "stderr",
     "output_type": "stream",
     "text": [
      "[nltk_data] Downloading package punkt to /home/delish/nltk_data...\n",
      "[nltk_data]   Package punkt is already up-to-date!\n",
      "[nltk_data] Downloading package stopwords to /home/delish/nltk_data...\n",
      "[nltk_data]   Package stopwords is already up-to-date!\n"
     ]
    },
    {
     "name": "stdout",
     "output_type": "stream",
     "text": [
      "Accuracy: 0.9755116959064327\n",
      "Classification Report:\n",
      "               precision    recall  f1-score   support\n",
      "\n",
      "           0       0.97      0.98      0.98      1372\n",
      "           1       0.98      0.97      0.98      1364\n",
      "\n",
      "    accuracy                           0.98      2736\n",
      "   macro avg       0.98      0.98      0.98      2736\n",
      "weighted avg       0.98      0.98      0.98      2736\n",
      "\n"
     ]
    }
   ],
   "source": [
    "import pandas as pd\n",
    "from sklearn.feature_extraction.text import TfidfVectorizer\n",
    "from sklearn.model_selection import train_test_split\n",
    "from sklearn.ensemble import RandomForestClassifier\n",
    "from sklearn.metrics import accuracy_score, classification_report\n",
    "import nltk\n",
    "nltk.download('punkt')\n",
    "nltk.download('stopwords')\n",
    "from nltk import word_tokenize\n",
    "from nltk.corpus import stopwords\n",
    "from sklearn.preprocessing import StandardScaler\n",
    "from scipy import sparse\n",
    "\n",
    "# Load and preprocess the data\n",
    "train_dataset = pd.read_csv('train_dataset.csv')\n",
    "\n",
    "# Basic TF-IDF Vectorization\n",
    "vectorizer = TfidfVectorizer(max_features=50000)\n",
    "X_tfidf = vectorizer.fit_transform(train_dataset['headline'])\n",
    "\n",
    "# Tokenization\n",
    "train_dataset['tokenized_text'] = train_dataset['headline'].apply(lambda x: word_tokenize(x.lower()))\n",
    "\n",
    "# Removing Stop Words\n",
    "stop_words = set(stopwords.words('english'))\n",
    "train_dataset['stopwords_removed'] = train_dataset['tokenized_text'].apply(lambda x: [word for word in x if word.lower() not in stop_words])\n",
    "\n",
    "# Word Counts\n",
    "train_dataset['word_count'] = train_dataset['tokenized_text'].apply(len)\n",
    "\n",
    "# Character Counts\n",
    "train_dataset['char_count'] = train_dataset['headline'].apply(len)\n",
    "\n",
    "# Average Word Length\n",
    "train_dataset['avg_word_length'] = train_dataset.apply(lambda row: row['char_count'] / row['word_count'], axis=1)\n",
    "\n",
    "# Other custom features based on the text\n",
    "\n",
    "# Combine features into a single matrix\n",
    "additional_features = train_dataset[['word_count', 'char_count', 'avg_word_length']].values\n",
    "additional_features = StandardScaler().fit_transform(additional_features)\n",
    "X_combined = sparse.hstack((X_tfidf, sparse.csr_matrix(additional_features)))\n",
    "\n",
    "# Split the data into training and testing sets\n",
    "X_train, X_test, y_train, y_test = train_test_split(X_combined, train_dataset['clickbait'], test_size=0.09, random_state=50)\n",
    "\n",
    "# Train the model\n",
    "classification_model = RandomForestClassifier(random_state=50)\n",
    "classification_model.fit(X_train, y_train)\n",
    "\n",
    "# Make predictions on the test set\n",
    "y_pred = classification_model.predict(X_test)\n",
    "\n",
    "# Evaluate the classification model\n",
    "accuracy = accuracy_score(y_test, y_pred)\n",
    "report = classification_report(y_test, y_pred)\n",
    "\n",
    "# Print the evaluation results\n",
    "print(f\"Accuracy: {accuracy}\")\n",
    "print(\"Classification Report:\\n\", report)\n"
   ]
  },
  {
   "cell_type": "code",
   "execution_count": 11,
   "id": "c2fba4d8",
   "metadata": {},
   "outputs": [],
   "source": [
    "from sklearn.feature_extraction.text import TfidfVectorizer\n",
    "\n",
    "# Assuming 'train_dataset' and 'test_dataset' are your training and test DataFrames\n",
    "\n",
    "# Vectorize the training data\n",
    "vectorizer = TfidfVectorizer(max_features=1000)  # Use the same parameters as used during training\n",
    "X_train_tfidf = vectorizer.fit_transform(train_dataset['headline'])\n",
    "\n",
    "# Vectorize the test data using the same vectorizer\n",
    "X_test_tfidf = vectorizer.transform(test_dataset['headline'])\n",
    "\n",
    "# Train your model using RandomForestClassifier (or any other classifier)\n",
    "from sklearn.ensemble import RandomForestClassifier\n",
    "\n",
    "classification_model = RandomForestClassifier(random_state=42)\n",
    "classification_model.fit(X_train_tfidf, train_dataset['clickbait'])\n",
    "\n",
    "# Make predictions on the test set\n",
    "test_predictions = classification_model.predict_proba(X_test_tfidf)[:, 1]\n",
    "\n",
    "# Assuming you have obtained 'test_predictions' from your model\n",
    "\n",
    "threshold = 0.5  # Set your threshold value here\n",
    "\n",
    "# Convert probabilities to binary predictions based on the threshold\n",
    "binary_predictions = [1 if prob >= threshold else 0 for prob in test_predictions]\n",
    "\n",
    "# Create a DataFrame with ID and predicted probabilities\n",
    "submission_df = pd.DataFrame({'ID': test_dataset['ID'], 'clickbait': binary_predictions})\n",
    "\n",
    "# Save the predictions to a CSV file\n",
    "submission_df.to_csv('submission03.csv', index=False)\n"
   ]
  },
  {
   "cell_type": "code",
   "execution_count": null,
   "id": "0eef9faf",
   "metadata": {},
   "outputs": [],
   "source": []
  },
  {
   "cell_type": "code",
   "execution_count": null,
   "id": "9a6f67be",
   "metadata": {},
   "outputs": [],
   "source": []
  },
  {
   "cell_type": "code",
   "execution_count": null,
   "id": "45f615a8",
   "metadata": {},
   "outputs": [],
   "source": []
  },
  {
   "cell_type": "code",
   "execution_count": null,
   "id": "02b2d59e",
   "metadata": {},
   "outputs": [],
   "source": []
  },
  {
   "cell_type": "code",
   "execution_count": null,
   "id": "cf6fe79e",
   "metadata": {},
   "outputs": [],
   "source": []
  },
  {
   "cell_type": "code",
   "execution_count": null,
   "id": "fa9e9c79",
   "metadata": {},
   "outputs": [],
   "source": []
  },
  {
   "cell_type": "code",
   "execution_count": 5,
   "id": "6321fe2e",
   "metadata": {},
   "outputs": [
    {
     "name": "stdout",
     "output_type": "stream",
     "text": [
      "Accuracy: 0.9105263157894737\n",
      "Classification Report:\n",
      "               precision    recall  f1-score   support\n",
      "\n",
      "           0       0.90      0.92      0.91      1518\n",
      "           1       0.92      0.90      0.91      1522\n",
      "\n",
      "    accuracy                           0.91      3040\n",
      "   macro avg       0.91      0.91      0.91      3040\n",
      "weighted avg       0.91      0.91      0.91      3040\n",
      "\n"
     ]
    }
   ],
   "source": [
    "from sklearn.datasets import make_classification\n",
    "from sklearn.model_selection import train_test_split\n",
    "from sklearn.ensemble import RandomForestClassifier\n",
    "from sklearn.metrics import accuracy_score, classification_report\n",
    "\n",
    "# Generating synthetic data\n",
    "X, y = make_classification(n_samples=15200, n_features=20, n_classes=2, random_state=42)\n",
    "\n",
    "# Splitting the data into training and testing sets\n",
    "X_train, X_test, y_train, y_test = train_test_split(X, y, test_size=0.2, random_state=42)\n",
    "\n",
    "# Initializing the model and training it\n",
    "model = RandomForestClassifier(random_state=42)\n",
    "model.fit(X_train, y_train)\n",
    "\n",
    "# Making predictions\n",
    "y_pred = model.predict(X_test)\n",
    "\n",
    "# Evaluating the model\n",
    "accuracy = accuracy_score(y_test, y_pred)\n",
    "report = classification_report(y_test, y_pred)\n",
    "\n",
    "# Printing the evaluation results\n",
    "print(f\"Accuracy: {accuracy}\")\n",
    "print(\"Classification Report:\\n\", report)\n"
   ]
  },
  {
   "cell_type": "code",
   "execution_count": null,
   "id": "42366c17",
   "metadata": {},
   "outputs": [],
   "source": []
  },
  {
   "cell_type": "code",
   "execution_count": null,
   "id": "b27a4955",
   "metadata": {},
   "outputs": [],
   "source": []
  }
 ],
 "metadata": {
  "kernelspec": {
   "display_name": "Python 3 (ipykernel)",
   "language": "python",
   "name": "python3"
  },
  "language_info": {
   "codemirror_mode": {
    "name": "ipython",
    "version": 3
   },
   "file_extension": ".py",
   "mimetype": "text/x-python",
   "name": "python",
   "nbconvert_exporter": "python",
   "pygments_lexer": "ipython3",
   "version": "3.10.6"
  }
 },
 "nbformat": 4,
 "nbformat_minor": 5
}
